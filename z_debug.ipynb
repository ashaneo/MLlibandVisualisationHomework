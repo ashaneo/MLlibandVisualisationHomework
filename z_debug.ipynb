{
 "cells": [
  {
   "cell_type": "code",
   "execution_count": 1,
   "metadata": {},
   "outputs": [
    {
     "name": "stdout",
     "output_type": "stream",
     "text": [
      "Jupyter uses: c:\\Users\\DELL\\anaconda3\\envs\\music-genre\\python.exe\n",
      "Driver sees : c:\\Users\\DELL\\anaconda3\\envs\\music-genre\\python.exe\n"
     ]
    }
   ],
   "source": [
    "import sys, os\n",
    "print(\"Jupyter uses:\", sys.executable)\n",
    "\n",
    "os.environ[\"PYSPARK_PYTHON\"]        = sys.executable\n",
    "os.environ[\"PYSPARK_DRIVER_PYTHON\"] = sys.executable\n",
    "\n",
    "from pyspark.sql import SparkSession\n",
    "spark = (SparkSession.builder\n",
    "         .appName(\"diag\")\n",
    "         .config(\"spark.pyspark.python\", sys.executable)\n",
    "         .config(\"spark.pyspark.driver.python\", sys.executable)\n",
    "         .getOrCreate())\n",
    "\n",
    "print(\"Driver sees :\", spark.sparkContext.pythonExec)\n",
    "spark.stop()\n"
   ]
  },
  {
   "cell_type": "code",
   "execution_count": 2,
   "metadata": {},
   "outputs": [
    {
     "name": "stdout",
     "output_type": "stream",
     "text": [
      "► tiny RDD written OK\n"
     ]
    }
   ],
   "source": [
    "from pyspark.sql import SparkSession\n",
    "import shutil, os, sys\n",
    "PY = sys.executable\n",
    "spark = (SparkSession.builder\n",
    "         .appName(\"write-test\")\n",
    "         .config(\"spark.pyspark.python\", PY)\n",
    "         .config(\"spark.pyspark.driver.python\", PY)\n",
    "         .getOrCreate())\n",
    "\n",
    "tmp = \"C:/tmp/spark_write_test\"\n",
    "uri = f\"file:///{tmp[0]}:/{tmp[3:]}\"     # file:///C:/tmp/spark_write_test\n",
    "if os.path.exists(tmp): shutil.rmtree(tmp)\n",
    "\n",
    "spark.sparkContext.parallelize([\"ok\"], 1).saveAsTextFile(uri)\n",
    "print(\"► tiny RDD written OK\")\n",
    "spark.stop()\n"
   ]
  },
  {
   "cell_type": "code",
   "execution_count": 3,
   "metadata": {},
   "outputs": [
    {
     "ename": "NameError",
     "evalue": "name 'model' is not defined",
     "output_type": "error",
     "traceback": [
      "\u001b[1;31m---------------------------------------------------------------------------\u001b[0m",
      "\u001b[1;31mNameError\u001b[0m                                 Traceback (most recent call last)",
      "Cell \u001b[1;32mIn[3], line 6\u001b[0m\n\u001b[0;32m      3\u001b[0m \u001b[38;5;28;01mimport\u001b[39;00m\u001b[38;5;250m \u001b[39m\u001b[38;5;21;01mshutil\u001b[39;00m\u001b[38;5;241m,\u001b[39m\u001b[38;5;250m \u001b[39m\u001b[38;5;21;01mos\u001b[39;00m\n\u001b[0;32m      4\u001b[0m \u001b[38;5;28;01mif\u001b[39;00m os\u001b[38;5;241m.\u001b[39mpath\u001b[38;5;241m.\u001b[39mexists(save_dir): shutil\u001b[38;5;241m.\u001b[39mrmtree(save_dir)\n\u001b[1;32m----> 6\u001b[0m \u001b[43mmodel\u001b[49m\u001b[38;5;241m.\u001b[39mwrite()\u001b[38;5;241m.\u001b[39moverwrite()\u001b[38;5;241m.\u001b[39msave(save_uri)\n\u001b[0;32m      7\u001b[0m \u001b[38;5;28mprint\u001b[39m(\u001b[38;5;124m\"\u001b[39m\u001b[38;5;124m✅  Model saved to\u001b[39m\u001b[38;5;124m\"\u001b[39m, save_uri)\n",
      "\u001b[1;31mNameError\u001b[0m: name 'model' is not defined"
     ]
    }
   ],
   "source": [
    "save_dir = \"C:/tmp/model_stage2\"\n",
    "save_uri = f\"file:///{save_dir[0]}:/{save_dir[3:]}\"\n",
    "import shutil, os\n",
    "if os.path.exists(save_dir): shutil.rmtree(save_dir)\n",
    "\n",
    "model.write().overwrite().save(save_uri)\n",
    "print(\"✅  Model saved to\", save_uri)\n"
   ]
  },
  {
   "cell_type": "code",
   "execution_count": null,
   "metadata": {},
   "outputs": [],
   "source": []
  }
 ],
 "metadata": {
  "kernelspec": {
   "display_name": "music-genre",
   "language": "python",
   "name": "python3"
  },
  "language_info": {
   "codemirror_mode": {
    "name": "ipython",
    "version": 3
   },
   "file_extension": ".py",
   "mimetype": "text/x-python",
   "name": "python",
   "nbconvert_exporter": "python",
   "pygments_lexer": "ipython3",
   "version": "3.10.16"
  }
 },
 "nbformat": 4,
 "nbformat_minor": 2
}
